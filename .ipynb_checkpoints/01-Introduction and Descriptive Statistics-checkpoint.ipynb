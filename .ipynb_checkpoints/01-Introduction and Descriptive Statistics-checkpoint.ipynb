{
 "cells": [
  {
   "cell_type": "markdown",
   "id": "1c77941e",
   "metadata": {},
   "source": [
    "# Story\n",
    "Malcolm Forbes, who once got lost floating for miles in one of his famous balloons and finally landed in the middle of a cornfield. He spotted a man coming toward him and asked, “Sir, can you tell me where I am?” The man said, “Certainly, you are in a basket in a field of corn.” Forbes said, “You must be a statistician.” The man said, “That’s amazing, how did you know that?” “Easy,” said Forbes, “your information is concise, precise, and absolutely useless!”"
   ]
  },
  {
   "cell_type": "markdown",
   "id": "11b3557b",
   "metadata": {},
   "source": [
    "# History\n",
    "- The word statistics is derived from the Italian word stato, which means “state,” and statista refers to a person involved with the affairs of state. Therefore, statistics originally meant the collection of facts useful to the statista. Statistics in this sense was used \n",
    "- Statistics is a science—the science of information. Information may be qualitative or quantitativein 16th-century Italy and then spread to France, Holland, and Germany"
   ]
  },
  {
   "cell_type": "markdown",
   "id": "ae068309",
   "metadata": {},
   "source": [
    "# Scale of Measurement"
   ]
  },
  {
   "cell_type": "markdown",
   "id": "7f28053a",
   "metadata": {},
   "source": [
    "#### Nominal\n",
    "- Qualitative (Male, Female)\n",
    "\n",
    "#### Ordinal\n",
    "- Quantitative with order (Age)\n",
    "\n",
    "#### Interval\n",
    "- 0 means something, ratios are not possible (Temperature, Time)\n",
    "\n",
    "#### Ratio\n",
    "- 0 has no meaning, ratio possible (Money, Duration)"
   ]
  },
  {
   "cell_type": "markdown",
   "id": "d247b2fb",
   "metadata": {},
   "source": [
    "# Concepts\n",
    "\n",
    "#### Population\n",
    "- also called universe\n",
    "- all measurement of interest\n",
    "- subset is called a sample\n",
    "\n",
    "#### Simple Random Sample or Random Sample\n",
    "- if every sample of n possible elements have an equal chance of being selected\n",
    "\n",
    "#### Statistical Inference\n",
    "- conclusion about population from the sample\n",
    "- data collection for statistical inferencing includes surveys, experiments and published data collections\n",
    "- surveys, may have non-response bias (Jewish life in America (Sabbath))"
   ]
  },
  {
   "cell_type": "markdown",
   "id": "c971fba9",
   "metadata": {},
   "source": [
    "# Moments in Statistics\n",
    "Moments in statistics define the characteristics of the distribution\n",
    "- First order moment is `Mean` defines `Centrality`\n",
    "- Second order moment is `Variance` or `Standard Deviation` defines `Spread or Variability`\n",
    "- Third order moment is `Skewness` defines the `Symmetry`\n",
    "- Fourth order moment is `Kurtosis` defines the `Peakedness`"
   ]
  },
  {
   "cell_type": "markdown",
   "id": "db7b1ddc",
   "metadata": {},
   "source": [
    "# Descriptive Statistics\n",
    "\n",
    "#### Percentile\n",
    "- computed as `(n+1) * P/100` for the `Pth` percentile in `n` elements\n",
    "- 50th percentile is called median which describes the centrality \n",
    "- 25th percentile is the lower quartile\n",
    "- 75th percentile is the upper quartile\n",
    "- Inter Quartile Range (IQR) describes the spread of the data - `75th - 25th percentile`\n"
   ]
  },
  {
   "cell_type": "markdown",
   "id": "64f986bf",
   "metadata": {},
   "source": [
    "## Measure of Central Tendency\n",
    "\n",
    "#### Median\n",
    "- 50th percentile is called median which describes the centrality\n",
    "#### Mode\n",
    "- most frequenct value in the distribution, again describes centrality\n",
    "\n",
    "#### Sample Mean\n",
    "- also called as average (equal likelihood or weightage)\n",
    "- $\\bar x$ = $\\sum_{i=0}^n x_i/n$\n",
    "- Derivation\n",
    "  - f(x) = argmin $\\sum_{i=0}^n (x_i - \\bar x)^2$\n",
    "  - df(x)/dx = $\\sum_{i=0}^n x_i - n\\bar x$\n",
    "  - at max or min the slope becomes 0, hence\n",
    "  - $\\sum_{i=0}^n x_i - n\\bar x$ = 0\n",
    "  - $\\bar x = \\sum_{i=0}^n x_i/n$\n",
    " \n",
    " \n",
    "#### Population Mean\n",
    " $\\mu\\ = \\sum_{i=0}^N x_i/N$"
   ]
  },
  {
   "attachments": {},
   "cell_type": "markdown",
   "id": "87e2de73",
   "metadata": {},
   "source": [
    "## Measure of Dispersion or Spread\n",
    "\n",
    "#### Variability\n",
    "also called dispersion can be measured using various indicators\n",
    "- Inter Quartile Range \n",
    "- Range `max - min`\n",
    "- Variance \n",
    "  - Sample Variance $s^2 = \\sum_{i=0}^n (x_i - \\bar x)^2/n-1$ \n",
    "  - Population Variance $\\sigma^2\\ = \\sum_{i=0}^N (x_i - \\bar x)^2/N$\n",
    "- Standard Deviation\n",
    "  - Sample Standard Deviation $$s = \\sqrt{s^2}$$\n",
    "  - Population Standard Deviation $$\\sigma\\ = \\sqrt{\\sigma^2}$$\n"
   ]
  },
  {
   "cell_type": "markdown",
   "id": "527ed1fe",
   "metadata": {},
   "source": [
    "## Measure of Symmetry\n",
    "\n",
    "#### Skewness\n",
    "- degree of asymmetry\n",
    "  - 0 (symmetric), -ve (left skewed), +ve (right skewed)\n",
    "  - $\\sum_{i=0}^N ((x_i - \\mu)/\\sigma)^3/N$\n",
    "  - Intuition behind 0, +ve, -ve skewness is that in right skewed distribution there will be more values towards the right of $\\mu$ giving the positive effect\n",
    "\n",
    "![image](./skew.png)"
   ]
  },
  {
   "cell_type": "markdown",
   "id": "6624712d",
   "metadata": {},
   "source": [
    "## Measure of Peakedness\n",
    "\n",
    "#### Kurtosis\n",
    "- degree of peakedness\n",
    "  - normal distribution - absolute value 3\n",
    "  - +ve peak distribution, -ve flat distribution\n",
    "  - Relative Kurtosis = Kurtosis - 3\n",
    "  - $\\sum_{i=0}^N ((x_i - \\mu)/\\sigma)^3/N$\n",
    "  - $\\sum_{i=0}^N ((x_i - \\mu)/\\sigma)^4/N$\n",
    "  \n",
    "![image](./kurtosis.png)"
   ]
  },
  {
   "cell_type": "markdown",
   "id": "874d7dbc",
   "metadata": {},
   "source": [
    "# Relationship between Mean and Standard Deviation\n",
    "- Chebyshev theorem \n",
    "  - For any distribution the number of values within `k` standard deviation can be defined by $(1 - 1/k^2)$ where `k > 1`\n",
    "  - 2nd standard deviation 3/4 of all values\n",
    "  - 3rd standard deviation 8/9 of all values\n",
    "\n",
    "- For mound shaped distribution (e.g. normal distribution)\n",
    "  - 1st standard deviation has 68% observations approx.\n",
    "  - 2nd standard deviation has 95% observations approx.\n",
    "  - 3rd standard deviation has 99% observations approx.  "
   ]
  },
  {
   "attachments": {},
   "cell_type": "markdown",
   "id": "c453085f",
   "metadata": {},
   "source": [
    "# Box Plot\n",
    "- suspected outler (1.5 IQR from upper quartile)\n",
    "- outlier (3 IQR from upper quartile)\n",
    "\n",
    "![image](./boxplot.png)"
   ]
  },
  {
   "cell_type": "markdown",
   "id": "79e4d8d5",
   "metadata": {},
   "source": [
    "# Additional Reading\n",
    "- A history of probability and statistics and their application before 1750\n",
    "- Exploratory Data Analysis (John Tuckey)"
   ]
  }
 ],
 "metadata": {
  "kernelspec": {
   "display_name": "Python 3 (ipykernel)",
   "language": "python",
   "name": "python3"
  },
  "language_info": {
   "codemirror_mode": {
    "name": "ipython",
    "version": 3
   },
   "file_extension": ".py",
   "mimetype": "text/x-python",
   "name": "python",
   "nbconvert_exporter": "python",
   "pygments_lexer": "ipython3",
   "version": "3.9.7"
  }
 },
 "nbformat": 4,
 "nbformat_minor": 5
}
